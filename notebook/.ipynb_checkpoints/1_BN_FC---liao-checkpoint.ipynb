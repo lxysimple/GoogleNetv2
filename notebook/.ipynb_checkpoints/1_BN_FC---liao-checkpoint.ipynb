{
 "cells": [
  {
   "cell_type": "markdown",
   "metadata": {},
   "source": [
    "\n",
    "## PreAct：激活函数之前的数据分布 \n",
    "\n",
    "## Act：经过激活函数之后的数据分布\n",
    "\n",
    "\n",
    "## Tanh 激活函数\n",
    "<img src=\"./imgs/bn_tanh.gif\"  width=\"800\" height=\"500\" align=\"bottom\"/> \n",
    "## Sigmoid 激活函数\n",
    "<img src=\"./imgs/bn_sigmoid.gif\"  width=\"800\" height=\"550\" align=\"bottom\"/> \n",
    "## ReLU 激活函数\n",
    "<img src=\"./imgs/bn_relu.gif\"  width=\"800\" height=\"550\" align=\"bottom\"/> "
   ]
  },
  {
   "cell_type": "code",
   "execution_count": 1,
   "metadata": {},
   "outputs": [
    {
     "ename": "ModuleNotFoundError",
     "evalue": "No module named 'torch'",
     "output_type": "error",
     "traceback": [
      "\u001b[1;31m---------------------------------------------------------------------------\u001b[0m",
      "\u001b[1;31mModuleNotFoundError\u001b[0m                       Traceback (most recent call last)",
      "\u001b[1;32m<ipython-input-1-0c39d016f046>\u001b[0m in \u001b[0;36m<module>\u001b[1;34m\u001b[0m\n\u001b[1;32m----> 1\u001b[1;33m \u001b[1;32mimport\u001b[0m \u001b[0mtorch\u001b[0m\u001b[1;33m\u001b[0m\u001b[1;33m\u001b[0m\u001b[0m\n\u001b[0m\u001b[0;32m      2\u001b[0m \u001b[1;32mimport\u001b[0m \u001b[0mtorch\u001b[0m\u001b[1;33m.\u001b[0m\u001b[0mutils\u001b[0m\u001b[1;33m.\u001b[0m\u001b[0mdata\u001b[0m \u001b[1;32mas\u001b[0m \u001b[0mData\u001b[0m\u001b[1;33m\u001b[0m\u001b[1;33m\u001b[0m\u001b[0m\n\u001b[0;32m      3\u001b[0m \u001b[1;32mimport\u001b[0m \u001b[0mmatplotlib\u001b[0m\u001b[1;33m.\u001b[0m\u001b[0mpyplot\u001b[0m \u001b[1;32mas\u001b[0m \u001b[0mplt\u001b[0m\u001b[1;33m\u001b[0m\u001b[1;33m\u001b[0m\u001b[0m\n\u001b[0;32m      4\u001b[0m \u001b[1;32mimport\u001b[0m \u001b[0mnumpy\u001b[0m \u001b[1;32mas\u001b[0m \u001b[0mnp\u001b[0m\u001b[1;33m\u001b[0m\u001b[1;33m\u001b[0m\u001b[0m\n\u001b[0;32m      5\u001b[0m \u001b[1;32mimport\u001b[0m \u001b[0mtorch\u001b[0m\u001b[1;33m.\u001b[0m\u001b[0mnn\u001b[0m \u001b[1;32mas\u001b[0m \u001b[0mnn\u001b[0m\u001b[1;33m\u001b[0m\u001b[1;33m\u001b[0m\u001b[0m\n",
      "\u001b[1;31mModuleNotFoundError\u001b[0m: No module named 'torch'"
     ]
    }
   ],
   "source": [
    "import torch\n",
    "import torch.utils.data as Data\n",
    "import matplotlib.pyplot as plt\n",
    "import numpy as np\n",
    "import torch.nn as nn\n",
    "\n",
    "torch.manual_seed(1)  # 设置随机种子，便于复现\n",
    "np.random.seed(1)\n"
   ]
  },
  {
   "cell_type": "code",
   "execution_count": null,
   "metadata": {},
   "outputs": [],
   "source": [
    "torch.__version__"
   ]
  },
  {
   "cell_type": "code",
   "execution_count": null,
   "metadata": {},
   "outputs": [],
   "source": [
    "x = np.linspace(0, 10, 20)  # 0到10之间 均匀分布20个点\n",
    "np.square(x)"
   ]
  },
  {
   "cell_type": "code",
   "execution_count": null,
   "metadata": {},
   "outputs": [],
   "source": [
    "x = np.linspace(0, 10, 20)[:, np.newaxis]  # np.array 增加一个维度\n",
    "x"
   ]
  },
  {
   "cell_type": "code",
   "execution_count": null,
   "metadata": {
    "code_folding": []
   },
   "outputs": [],
   "source": [
    "def generate_data(num_samples):\n",
    "\n",
    "    # training data\n",
    "    x = np.linspace(-7, 10, num_samples)[:, np.newaxis]\n",
    "    noise = np.random.normal(0, 2, x.shape)\n",
    "    y = np.square(x) - 5 + noise\n",
    "\n",
    "    # test data\n",
    "    test_x = np.linspace(-7, 10, 200)[:, np.newaxis]\n",
    "    noise = np.random.normal(0, 2, test_x.shape)\n",
    "    test_y = np.square(test_x) - 5 + noise\n",
    "\n",
    "    # to tensor\n",
    "    train_x, train_y = torch.from_numpy(x).float(), torch.from_numpy(y).float()\n",
    "    test_x = torch.from_numpy(test_x).float()\n",
    "    test_y = torch.from_numpy(test_y).float()\n",
    "\n",
    "    return train_x, train_y, test_x, test_y\n",
    "\n",
    "train_x, train_y, test_x, test_y = generate_data(2000)\n",
    "\n",
    "print(train_x.shape, train_y.shape)\n",
    "print(test_x.shape, test_y.shape)\n",
    "\n",
    "# show data\n",
    "plt.scatter(train_x.numpy(), train_y.numpy(), c='#FF9359', s=50, alpha=0.2, label='train')\n",
    "plt.scatter(test_x.numpy(), test_y.numpy(), c='b', s=50, alpha=0.2, label='test')\n",
    "plt.legend(loc='upper left')\n",
    "plt.show()"
   ]
  },
  {
   "cell_type": "code",
   "execution_count": null,
   "metadata": {
    "code_folding": []
   },
   "outputs": [],
   "source": [
    "class Net(nn.Module):\n",
    "    \n",
    "    def __init__(self, n_hidden, act_func, batch_normalization=False):\n",
    "        super(Net, self).__init__()\n",
    "        self.n_hidden = n_hidden\n",
    "        self.act_func = act_func\n",
    "        self.do_bn = batch_normalization\n",
    "        self.fcs = []       # 利用list管理网络层，forward时，方便for循环调用每个网络层\n",
    "        self.bns = []\n",
    "        self.bn_input = nn.BatchNorm1d(1, momentum=0.5)   # for input data  ; momentum 是指数滑动平均的 decay?\n",
    "\n",
    "        for i in range(n_hidden):               # build hidden layers and BN layers\n",
    "            input_size = 1 if i == 0 else 10\n",
    "            fc = nn.Linear(input_size, 10)      # 设置网络层\n",
    "            setattr(self, 'fc%i' % i, fc)       # IMPORTANT set layer to the Module\n",
    "\n",
    "            self._set_init(fc)                  # parameters initialization\n",
    "            self.fcs.append(fc)\n",
    "\n",
    "            if self.do_bn:\n",
    "                bn = nn.BatchNorm1d(10, momentum=0.5)\n",
    "                setattr(self, 'bn%i' % i, bn)   # IMPORTANT set layer to the Module\n",
    "                self.bns.append(bn)\n",
    "\n",
    "        self.predict = nn.Linear(10, 1)         # output layer\n",
    "        self._set_init(self.predict)            # parameters initialization\n",
    "\n",
    "    def _set_init(self, layer):\n",
    "        nn.init.normal_(layer.weight, mean=0., std=.1)\n",
    "        nn.init.constant_(layer.bias, -0.2)     # B_INIT = -0.2  # use a bad bias constant initializer\n",
    "\n",
    "    def forward(self, x):\n",
    "\n",
    "        pre_activation = [x]\n",
    "        if self.do_bn:\n",
    "            x = self.bn_input(x)     # input batch normalization\n",
    "\n",
    "        layer_input = [x]\n",
    "\n",
    "        for i in range(self.n_hidden):      # 设置断点，观察id(self.fc0), id(self.fcs[0])\n",
    "            x = self.fcs[i](x)\n",
    "            pre_activation.append(x)\n",
    "\n",
    "            if self.do_bn:\n",
    "                x = self.bns[i](x)   # batch normalization\n",
    "\n",
    "            x = self.act_func(x)\n",
    "\n",
    "            layer_input.append(x)\n",
    "        out = self.predict(x)\n",
    "        return out, layer_input, pre_activation\n",
    "    \n",
    "\n",
    "model = Net(n_hidden=3, act_func=torch.sigmoid, batch_normalization=True)\n",
    "# model = Net(n_hidden=6, act_func=nn.Sigmoid, batch_normalization=False)\n",
    "print(model)\n"
   ]
  },
  {
   "cell_type": "code",
   "execution_count": null,
   "metadata": {},
   "outputs": [],
   "source": [
    "fake_data = torch.normal(0, 1, size=(16, 1))\n",
    "print(fake_data.shape)\n",
    "fake_data"
   ]
  },
  {
   "cell_type": "code",
   "execution_count": null,
   "metadata": {},
   "outputs": [],
   "source": [
    "pred, layer_inputs, pre_activation = model(fake_data)\n",
    "print(len(layer_inputs), len(pre_activation))\n",
    "\n",
    "print(layer_inputs[0].shape)\n",
    "print(layer_inputs[1].shape)\n",
    "print(layer_inputs[2].shape)\n",
    "print(layer_inputs[3].shape)"
   ]
  },
  {
   "cell_type": "code",
   "execution_count": null,
   "metadata": {
    "code_folding": []
   },
   "outputs": [],
   "source": [
    "def plot_histogram(l_in, l_in_bn, pre_ac, pre_ac_bn):\n",
    "\n",
    "    for i, (ax_pa, ax_pa_bn, ax, ax_bn) in enumerate(zip(axs[0, :], axs[1, :], axs[2, :], axs[3, :])):\n",
    "        [a.clear() for a in [ax_pa, ax_pa_bn, ax, ax_bn]]\n",
    "        if i == 0:\n",
    "            p_range = (-7, 10)\n",
    "            the_range = (-7, 10)\n",
    "        else:\n",
    "            p_range = (-4, 4)\n",
    "            the_range = (-1, 1)\n",
    "        ax_pa.set_title('L' + str(i))\n",
    "        ax_pa.hist(pre_ac[i].data.numpy().ravel(), bins=10, range=p_range, color='#FF9359', alpha=0.5)\n",
    "        ax_pa_bn.hist(pre_ac_bn[i].data.numpy().ravel(), bins=10, range=p_range, color='#74BCFF', alpha=0.5)\n",
    "        ax.hist(l_in[i].data.numpy().ravel(), bins=10, range=the_range, color='#FF9359')\n",
    "        ax_bn.hist(l_in_bn[i].data.numpy().ravel(), bins=10, range=the_range, color='#74BCFF')\n",
    "        for a in [ax_pa, ax, ax_pa_bn, ax_bn]:\n",
    "            a.set_yticks(())\n",
    "            a.set_xticks(())\n",
    "\n",
    "        ax_pa_bn.set_xticks(p_range)\n",
    "        ax_bn.set_xticks(the_range)\n",
    "\n",
    "        axs[0, 0].set_ylabel('PreAct')\n",
    "        axs[1, 0].set_ylabel('BN PreAct')\n",
    "        axs[2, 0].set_ylabel('Act')\n",
    "        axs[3, 0].set_ylabel('BN Act')\n",
    "        \n",
    "    plt.suptitle(\"Activation:{} epoch:{}/{}\".format(act_name, epoch, EPOCH))\n",
    "    plt.pause(0.05)\n",
    "    "
   ]
  },
  {
   "cell_type": "code",
   "execution_count": null,
   "metadata": {},
   "outputs": [],
   "source": [
    "# act_name = \"ReLU\"\n",
    "# act_name = \"Tanh\"\n",
    "act_name = \"Sigmoid\"\n",
    "activations = {\"ReLU\": torch.relu, \"Tanh\": torch.tanh, \"Sigmoid\": torch.sigmoid}\n",
    "ACTIVATION = activations[act_name]\n",
    "EPOCH = 12\n",
    "LR = 0.03\n",
    "N_HIDDEN = 8\n",
    "N_SAMPLES = 2000\n",
    "BATCH_SIZE = 64\n",
    "B_INIT = -0.2  # use a bad bias constant initializer\n"
   ]
  },
  {
   "cell_type": "code",
   "execution_count": null,
   "metadata": {},
   "outputs": [],
   "source": [
    "%matplotlib inline\n",
    "# 1. 生成虚假数据\n",
    "train_x, train_y, test_x, test_y = generate_data(N_SAMPLES)\n",
    "train_dataset = Data.TensorDataset(train_x, train_y)\n",
    "train_loader = Data.DataLoader(dataset=train_dataset, batch_size=BATCH_SIZE, shuffle=True, num_workers=2)\n",
    "# show data\n",
    "plt.scatter(train_x.numpy(), train_y.numpy(), c='#FF9359', s=50, alpha=0.2, label='train')\n",
    "plt.legend(loc='upper left')"
   ]
  },
  {
   "cell_type": "code",
   "execution_count": null,
   "metadata": {
    "code_folding": [],
    "scrolled": false
   },
   "outputs": [],
   "source": [
    "%matplotlib auto\n",
    "# 2. 创建网络/loss/优化器\n",
    "nets = [Net(N_HIDDEN, ACTIVATION, batch_normalization=False), Net(N_HIDDEN, ACTIVATION, batch_normalization=True)]\n",
    "loss_func = torch.nn.MSELoss()\n",
    "opts = [torch.optim.Adam(net.parameters(), lr=LR) for net in nets]\n",
    "\n",
    "# 3. 训练，绘图\n",
    "f, axs = plt.subplots(4, N_HIDDEN + 1, figsize=(10, 5))\n",
    "plt.ion()  # something about plotting\n",
    "#plt.show()\n",
    "\n",
    "losses = [[], []]  # recode loss for two networks\n",
    "for epoch in range(EPOCH):\n",
    "    print('Epoch: {}/{}'.format(epoch, EPOCH))\n",
    "\n",
    "    # 记录数据\n",
    "    layer_inputs, pre_acts = [], []\n",
    "    for net, l in zip(nets, losses):\n",
    "        net.eval()              # set eval mode to fix moving_mean and moving_var\n",
    "        pred, layer_input, pre_act = net(test_x)\n",
    "        l.append(loss_func(pred, test_y).data.item())\n",
    "        layer_inputs.append(layer_input)\n",
    "        pre_acts.append(pre_act)\n",
    "        net.train()             # free moving_mean and moving_var\n",
    "    plot_histogram(*layer_inputs, *pre_acts)     # plot histogram\n",
    "    plt.show()\n",
    "    # 训练更新模型\n",
    "    for step, (b_x, b_y) in enumerate(train_loader):\n",
    "        for net, opt in zip(nets, opts):     # train for each network\n",
    "            pred, _, _ = net(b_x)\n",
    "            loss = loss_func(pred, b_y)\n",
    "            opt.zero_grad()\n",
    "            loss.backward()\n",
    "            opt.step()    # it will also learns the parameters in Batch Normalization\n",
    "plt.ioff()   "
   ]
  },
  {
   "cell_type": "code",
   "execution_count": null,
   "metadata": {},
   "outputs": [],
   "source": [
    "# plot training loss\n",
    "%matplotlib inline\n",
    "plt.figure(2)\n",
    "plt.plot(losses[0], c='#FF9359', lw=3, label='Original')\n",
    "plt.plot(losses[1], c='#74BCFF', lw=3, label='Batch Normalization')\n",
    "plt.xlabel('step')\n",
    "plt.ylabel('test loss')\n",
    "plt.ylim((0, 2000))\n",
    "plt.legend(loc='best')\n",
    "\n",
    "# evaluation\n",
    "# set net to eval mode to freeze the parameters in batch normalization layers\n",
    "[net.eval() for net in nets]    # set eval mode to fix moving_mean and moving_var\n",
    "preds = [net(test_x)[0] for net in nets]\n",
    "plt.figure(3)\n",
    "plt.plot(test_x.data.numpy(), preds[0].data.numpy(), c='#FF9359', lw=4, label='Original')\n",
    "plt.plot(test_x.data.numpy(), preds[1].data.numpy(), c='#74BCFF', lw=4, label='Batch Normalization')\n",
    "plt.scatter(test_x.data.numpy(), test_y.data.numpy(), c='r', s=50, alpha=0.2, label='train')\n",
    "plt.legend(loc='best')\n",
    "plt.show()"
   ]
  },
  {
   "cell_type": "markdown",
   "metadata": {},
   "source": [
    "## Pycharm中实现动态图显示\n",
    "\n",
    "### Mac\n",
    "step1: Preference  \n",
    "step2: Tools   \n",
    "step3: Python Scientific   \n",
    "step4: 不要勾选Show plots in tool window   \n",
    "<img src=\"./imgs/pycharm.png\"  width=\"800\" height=\"500\" align=\"bottom\"/> \n"
   ]
  },
  {
   "cell_type": "code",
   "execution_count": null,
   "metadata": {},
   "outputs": [],
   "source": []
  }
 ],
 "metadata": {
  "kernelspec": {
   "display_name": "Python 3",
   "language": "python",
   "name": "python3"
  },
  "language_info": {
   "codemirror_mode": {
    "name": "ipython",
    "version": 3
   },
   "file_extension": ".py",
   "mimetype": "text/x-python",
   "name": "python",
   "nbconvert_exporter": "python",
   "pygments_lexer": "ipython3",
   "version": "3.7.6"
  },
  "varInspector": {
   "cols": {
    "lenName": 16,
    "lenType": 16,
    "lenVar": 40
   },
   "kernels_config": {
    "python": {
     "delete_cmd_postfix": "",
     "delete_cmd_prefix": "del ",
     "library": "var_list.py",
     "varRefreshCmd": "print(var_dic_list())"
    },
    "r": {
     "delete_cmd_postfix": ") ",
     "delete_cmd_prefix": "rm(",
     "library": "var_list.r",
     "varRefreshCmd": "cat(var_dic_list()) "
    }
   },
   "types_to_exclude": [
    "module",
    "function",
    "builtin_function_or_method",
    "instance",
    "_Feature"
   ],
   "window_display": false
  }
 },
 "nbformat": 4,
 "nbformat_minor": 4
}
