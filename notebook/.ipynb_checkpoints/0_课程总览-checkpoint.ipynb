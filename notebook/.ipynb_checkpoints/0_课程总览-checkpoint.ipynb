{
 "cells": [
  {
   "cell_type": "markdown",
   "metadata": {},
   "source": [
    "# 1 前言\n",
    "## 1.1课程回顾\n",
    "<img src=\"./imgs/review.jpg\"  width=\"700\" height=\"700\" align=\"bottom\" />"
   ]
  },
  {
   "cell_type": "markdown",
   "metadata": {},
   "source": [
    "## 1.2 BN 工作流程\n",
    "\n",
    "<img src=\"./imgs/BN.png\"  width=\"500\" height=\"500\" align=\"bottom\" />\n",
    "\n",
    "## 1.3 项目结构\n",
    "<img src=\"./imgs/proj_struct.jpg\"  width=\"300\" height=\"500\" align=\"bottom\" />\n"
   ]
  },
  {
   "cell_type": "markdown",
   "metadata": {},
   "source": [
    "# 2 准备工作\n",
    "## 2.1项目环境配置\n",
    " \n",
    "* Python 3.x\n",
    "* jupyter notebook\n",
    "* torch           >1.0\n",
    "* torchsummary    1.5.1\n",
    "* torchvision     0.4.0+cu92\n",
    "* Pillow          6.1.0\n",
    "* numpy           1.17.0\n",
    "* opencv-python   4.1.2.30\n"
   ]
  },
  {
   "cell_type": "markdown",
   "metadata": {},
   "source": [
    "## 2.2 数据集下载\n",
    "　　海洋渔业分类，可以在https://www.kaggle.com/c/the-nature-conservancy-fisheries-monitoring/data 上下载\n",
    "### 2.2.1 数据集简介\n",
    "    为了保护和监控海洋环境及生态平衡，大自然保护协会（The Nature Conservancy）希望开发者能开发处机器学习算法，自动分类和识别远洋捕捞船上的摄像头拍摄到的图片中鱼类的品种。\n",
    "    \n",
    "    大自然保护协会一共提供了3777张标注的图片作为训练集，这些图片被分为了8类，其中7类是不同种类的海鱼，剩余1类则是不含有鱼的图片，每张图片只属于8类中的某一类别\n",
    "\n",
    "<img src=\"./imgs/fish.jpg\"  width=\"700\" height=\"1000\"/>\n",
    "    \n",
    "### 真实样本\n",
    "   \n",
    "<img src=\"./imgs/img_example.jpg\"  width=\"1200\" height=\"2000\" align=\"bottom\" /> \n",
    "\n",
    "### 数据存放\n",
    "<img src=\"./imgs/data_struct.jpg\"  width=\"300\" height=\"700\" align=\"bottom\" /> \n"
   ]
  },
  {
   "cell_type": "markdown",
   "metadata": {},
   "source": [
    "  \n",
    "## 2.3 预训练权重下载\n",
    "    'googlenet': 'https://download.pytorch.org/models/googlenet-1378be20.pth',"
   ]
  },
  {
   "cell_type": "markdown",
   "metadata": {},
   "source": [
    "# 3 项目代码结构（pycharm中演示）\n",
    "\n",
    "## 3.1 BN_FC.py\n",
    "\n",
    "    观察BN层对神经网络神经元数据分布的影响 （跳转pycharm，观察效果）\n",
    "\n",
    "\n",
    "## 3.2 BN_with_init.py\n",
    "\n",
    "    观察BN层对神经网络初始化的影响（跳转pycharm，观察效果）\n",
    "\n",
    "## 3.3  BN_in_training.py\n",
    "\n",
    "    观察BN层在训练与测试阶段的操作（跳转pycharm，观察效果）\n"
   ]
  },
  {
   "cell_type": "markdown",
   "metadata": {},
   "source": [
    "# 4 算法模块及细节\n",
    "\n",
    "### 4.1  BN_FC.py 中各函数模块详解\n",
    " \n",
    "### 4.2 BN_with_init.py 中各函数模块详解\n",
    "\n",
    "### 4.3 BN_in_training.py中各函数模块详解\n"
   ]
  },
  {
   "attachments": {},
   "cell_type": "markdown",
   "metadata": {},
   "source": [
    "# 5 BN总结\n",
    "\n",
    "1. 可以用更大学习率，加速模型收敛\n",
    "2. 可以不用精心设计权值初始化 \n",
    "3. 可以不用dropout或较小的dropout\n",
    "4. 可以不用L2或者较小的weight decay\n",
    "5. 可以不用LRN(local response normalization)\n",
    "\n"
   ]
  },
  {
   "cell_type": "markdown",
   "metadata": {},
   "source": [
    "# 6 作业\n",
    "\n",
    "\n",
    "    1：文字回答：Batch Normalization 层中的加减乘除是什么意思？\n",
    "    2：文字回答：Batch Normalization 层中均值和标准差通过什么方式得到？\n",
    "    3：文字回答：采用Batch Normalization 对神经网络带来怎样的收益？\n",
    "    4：文字回答：读完该论文，对你的启发点有哪些？\n",
    "    \n"
   ]
  },
  {
   "cell_type": "code",
   "execution_count": null,
   "metadata": {},
   "outputs": [],
   "source": []
  }
 ],
 "metadata": {
  "colab": {
   "authorship_tag": "ABX9TyMaJPtlMHur6DonwEyZLw5h",
   "collapsed_sections": [],
   "name": "data process and load.ipynb",
   "provenance": []
  },
  "kernelspec": {
   "display_name": "pytorch_test",
   "language": "python",
   "name": "pytorch_test"
  },
  "language_info": {
   "codemirror_mode": {
    "name": "ipython",
    "version": 3
   },
   "file_extension": ".py",
   "mimetype": "text/x-python",
   "name": "python",
   "nbconvert_exporter": "python",
   "pygments_lexer": "ipython3",
   "version": "3.6.10"
  }
 },
 "nbformat": 4,
 "nbformat_minor": 1
}
