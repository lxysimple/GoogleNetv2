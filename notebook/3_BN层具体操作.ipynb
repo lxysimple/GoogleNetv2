{
 "cells": [
  {
   "cell_type": "markdown",
   "metadata": {},
   "source": [
    "## BN 工作流程\n",
    "<img src=\"./imgs/BN.png\"  width=\"500\" height=\"500\" align=\"bottom\" />\n",
    "\n",
    "### 训练阶段：均值和标准差通过指数滑动平均统计得来，gamma和beta通过梯度反向传播不断更新\n",
    "### 测试阶段：均值和标准差是固定的，gamma和beta也是固定的\n",
    "\n",
    "### 指数滑动平均计算公式\n",
    "<img src=\"./imgs/mv.png\"  width=\"500\" height=\"500\" align=\"bottom\" />\n",
    "\n",
    "$mv_t = (1 - momentum) * mv_t + momentum * a_t$  \n",
    "\n",
    "## PyTorch中的BN层\n",
    "<img src=\"./imgs/bn1.png\"  width=\"700\" height=\"700\" align=\"bottom\" /> \n",
    "<img src=\"./imgs/bn2.png\"  width=\"700\" height=\"700\" align=\"bottom\" /> \n",
    "<img src=\"./imgs/bn3.png\"  width=\"700\" height=\"700\" align=\"bottom\" /> \n"
   ]
  },
  {
   "cell_type": "code",
   "execution_count": null,
   "metadata": {},
   "outputs": [],
   "source": []
  }
 ],
 "metadata": {
  "kernelspec": {
   "display_name": "pytorch_1.4_gpu",
   "language": "python",
   "name": "pytorch_1.4_gpu"
  },
  "language_info": {
   "codemirror_mode": {
    "name": "ipython",
    "version": 3
   },
   "file_extension": ".py",
   "mimetype": "text/x-python",
   "name": "python",
   "nbconvert_exporter": "python",
   "pygments_lexer": "ipython3",
   "version": "3.6.10"
  }
 },
 "nbformat": 4,
 "nbformat_minor": 4
}
